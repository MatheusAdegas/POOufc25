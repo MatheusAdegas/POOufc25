{
  "nbformat": 4,
  "nbformat_minor": 0,
  "metadata": {
    "colab": {
      "provenance": [],
      "authorship_tag": "ABX9TyOYZNKfDPPh+hAuXLm3HB8D",
      "include_colab_link": true
    },
    "kernelspec": {
      "name": "python3",
      "display_name": "Python 3"
    },
    "language_info": {
      "name": "python"
    }
  },
  "cells": [
    {
      "cell_type": "markdown",
      "metadata": {
        "id": "view-in-github",
        "colab_type": "text"
      },
      "source": [
        "<a href=\"https://colab.research.google.com/github/MatheusAdegas/POOufc25/blob/main/25092025.ipynb\" target=\"_parent\"><img src=\"https://colab.research.google.com/assets/colab-badge.svg\" alt=\"Open In Colab\"/></a>"
      ]
    },
    {
      "cell_type": "code",
      "source": [
        "# programa que leia 3 coordenadas num espaço 2D e indique se formam um triângulo juntamentecom o seu tipo (equilátero, isóceles e escaleno)\n",
        "\n",
        "import math\n",
        "\n",
        "p1x = int(input('Digite a coordenada x do primeiro ponto: '))\n",
        "p1y = int(input('Digite a coordenada y do primeiro ponto: '))\n",
        "p2x = int(input('Digite a coordenada x do segundo ponto: '))\n",
        "p2y = int(input('Digite a coordenada y do segundo ponto: '))\n",
        "p3x = int(input('Digite a coordenada x do terceiro ponto: '))\n",
        "p3y = int(input('Digite a coordenada y do terceiro ponto: '))\n",
        "print(f'({p1x}, {p1y})({p2x}, {p2y})({p3x}, {p3y})')\n",
        "\n",
        "distanciaP1P2 = math.sqrt((p2x - p1x)**2 + (p2y - p1y)**2)\n",
        "distanciaP1P3 = math.sqrt((p3x - p1x)**2 + (p3y - p1y)**2)\n",
        "distanciaP2P3 = math.sqrt((p3x - p2x)**2 + (p3y - p2y)**2)\n",
        "\n",
        "# ver se a soma do comprimento de quaisquer dois lados de um triângulo é sempre maior que o comprimento do terceiro lado\n",
        "\n",
        "if distanciaP1P2 + distanciaP1P3 > distanciaP2P3:\n",
        "  print('É um triângulo')\n",
        "  if distanciaP1P2 == distanciaP1P3 and distanciaP1P2 == distanciaP2P3:\n",
        "    print('Equilátero')\n",
        "  if distanciaP1P2 == distanciaP1P3 or distanciaP1P2 == distanciaP2P3 or distanciaP2P3 == distanciaP1P3:\n",
        "    print('Isóceles')\n",
        "  else:\n",
        "    print('Escaleno')\n"
      ],
      "metadata": {
        "colab": {
          "base_uri": "https://localhost:8080/"
        },
        "id": "Q38FbRgWTYwJ",
        "outputId": "06a1dd52-2251-43f3-d3e9-9d8c592630a9"
      },
      "execution_count": null,
      "outputs": [
        {
          "output_type": "stream",
          "name": "stdout",
          "text": [
            "Digite a coordenada x do primeiro ponto: 0\n",
            "Digite a coordenada y do primeiro ponto: 0\n",
            "Digite a coordenada x do segundo ponto: 6\n",
            "Digite a coordenada y do segundo ponto: 0\n",
            "Digite a coordenada x do terceiro ponto: 3\n",
            "Digite a coordenada y do terceiro ponto: 4\n",
            "(0.0, 0.0)(6.0, 0.0)(3.0, 4.0)\n",
            "É um triângulo\n",
            "Isóceles\n"
          ]
        }
      ]
    },
    {
      "cell_type": "code",
      "source": [
        "num = input(\"insira um numero \")\n",
        "while len(num) != 5 or not num.isdigit():\n",
        "  num = input(\"o Numero deve ter 5 digitos \")\n",
        "palindromo = num == num[::-1]\n",
        "if palindromo:\n",
        "  print(\"é palindromo\")\n",
        "else:\n",
        "  print(\"não é palindromo\")"
      ],
      "metadata": {
        "id": "K4f5J3wCXKTL",
        "colab": {
          "base_uri": "https://localhost:8080/"
        },
        "outputId": "3d4584f2-79f4-46b9-ac30-128c71ab5982"
      },
      "execution_count": null,
      "outputs": [
        {
          "output_type": "stream",
          "name": "stdout",
          "text": [
            "insira um numero 23432\n",
            "é palindromo\n"
          ]
        }
      ]
    },
    {
      "cell_type": "code",
      "source": [
        "# Identificar o tipo de geometria a partir de 4 coordenadas inseridas pelo usuário, seja quadrado ou retângulo;\n",
        "\n"
      ],
      "metadata": {
        "id": "oAmkWrIB1vP-"
      },
      "execution_count": null,
      "outputs": []
    }
  ]
}