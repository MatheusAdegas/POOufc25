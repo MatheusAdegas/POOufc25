{
  "nbformat": 4,
  "nbformat_minor": 0,
  "metadata": {
    "colab": {
      "provenance": [],
      "authorship_tag": "ABX9TyNddl2zsI+UqqFUoRyueNYB",
      "include_colab_link": true
    },
    "kernelspec": {
      "name": "python3",
      "display_name": "Python 3"
    },
    "language_info": {
      "name": "python"
    }
  },
  "cells": [
    {
      "cell_type": "markdown",
      "metadata": {
        "id": "view-in-github",
        "colab_type": "text"
      },
      "source": [
        "<a href=\"https://colab.research.google.com/github/MatheusAdegas/POOufc25/blob/main/25092025.ipynb\" target=\"_parent\"><img src=\"https://colab.research.google.com/assets/colab-badge.svg\" alt=\"Open In Colab\"/></a>"
      ]
    },
    {
      "cell_type": "code",
      "source": [
        "# programa que leia 3 coordenadas num espaço 2D e indique se formam um triângulo juntamentecom o seu tipo (equilátero, isóceles e escaleno)\n",
        "\n",
        "import math\n",
        "\n",
        "def inserirCoordenadas(a):\n",
        "  a.append(int(input('Digite a coordenada x do ponto: ')))\n",
        "  a.append(int(input('Digite a coordenada y do ponto: ')))\n",
        "  print(f\"Coordenadas setadas: {a}\")\n",
        "\n",
        "def distancia(k,l):\n",
        "  return math.sqrt((k[0] - l[0])**2 + (k[1] - l[1])**2)\n",
        "\n",
        "p1,p2,p3 = [],[],[]\n",
        "\n",
        "inserirCoordenadas(p1)\n",
        "inserirCoordenadas(p2)\n",
        "inserirCoordenadas(p3)\n",
        "\n",
        "lado1 = distancia(p1,p2)\n",
        "lado2 = distancia(p2,p3)\n",
        "lado3 = distancia(p3,p1)\n",
        "\n",
        "# ver se a soma do comprimento de quaisquer dois lados de um triângulo é sempre maior que o comprimento do terceiro lado\n",
        "\n",
        "if lado1 < lado2 + lado3 and lado2 < lado1 + lado3 and lado3 < lado1 + lado2:\n",
        "  print('É um triângulo:')\n",
        "  if lado1 == lado2 == lado3:\n",
        "    print('Equilátero')\n",
        "  elif lado1 == lado2 or lado2 == lado3 or lado1 == lado3:\n",
        "    print('Isósceles')\n",
        "  else:\n",
        "    print('Escaleno')\n",
        "else:\n",
        "  print('Não é um triângulo')"
      ],
      "metadata": {
        "colab": {
          "base_uri": "https://localhost:8080/"
        },
        "id": "Q38FbRgWTYwJ",
        "outputId": "bc821234-819a-4ae1-df90-7a678eb3dea8"
      },
      "execution_count": null,
      "outputs": [
        {
          "output_type": "stream",
          "name": "stdout",
          "text": [
            "Digite a coordenada x do ponto: 0\n",
            "Digite a coordenada y do ponto: 0\n",
            "Coordenadas setadas: [0, 0]\n",
            "Digite a coordenada x do ponto: -6\n",
            "Digite a coordenada y do ponto: 0\n",
            "Coordenadas setadas: [-6, 0]\n",
            "Digite a coordenada x do ponto: -3\n",
            "Digite a coordenada y do ponto: -5\n",
            "Coordenadas setadas: [-3, -5]\n",
            "É um triângulo:\n",
            "Isósceles\n"
          ]
        }
      ]
    },
    {
      "cell_type": "code",
      "source": [
        "num = input(\"insira um numero \")\n",
        "while len(num) != 5 or not num.isdigit():\n",
        "  num = input(\"o Numero deve ter 5 digitos \")\n",
        "palindromo = num == num[::-1]\n",
        "if palindromo:\n",
        "  print(\"é palindromo\")\n",
        "else:\n",
        "  print(\"não é palindromo\")"
      ],
      "metadata": {
        "id": "K4f5J3wCXKTL",
        "colab": {
          "base_uri": "https://localhost:8080/"
        },
        "outputId": "3d4584f2-79f4-46b9-ac30-128c71ab5982"
      },
      "execution_count": null,
      "outputs": [
        {
          "output_type": "stream",
          "name": "stdout",
          "text": [
            "insira um numero 23432\n",
            "é palindromo\n"
          ]
        }
      ]
    },
    {
      "cell_type": "code",
      "source": [
        "# Identificar o tipo de geometria a partir de 4 coordenadas inseridas pelo usuário, seja quadrado ou retângulo;\n",
        "import math\n",
        "\n",
        "p1,p2,p3,p4 = [],[],[],[]\n",
        "\n",
        "def inserirCoordenadas(a):\n",
        "  a.append(int(input('Digite a coordenada x do ponto: ')))\n",
        "  a.append(int(input('Digite a coordenada y do ponto: ')))\n",
        "  print(f\"Coordenadas setadas: {a}\")\n",
        "\n",
        "def distancia(k,l):\n",
        "  return math.sqrt((k[0] - l[0])**2 + (k[1] - l[1])**2)\n",
        "\n",
        "inserirCoordenadas(p1)\n",
        "inserirCoordenadas(p2)\n",
        "inserirCoordenadas(p3)\n",
        "inserirCoordenadas(p4)\n",
        "\n",
        "lado1 = distancia(p1,p2)\n",
        "lado2 = distancia(p2,p3)\n",
        "lado3 = distancia(p3,p4)\n",
        "lado4 = distancia(p4,p1)\n",
        "\n",
        "if lado1 == lado2 and lado2 == lado3 and lado3 == lado4:\n",
        "    print('Quadrado')\n",
        "elif lado1 == lado3 and lado2 == lado4:\n",
        "    print('Retângulo')\n",
        "else:\n",
        "    print('Polígono')"
      ],
      "metadata": {
        "colab": {
          "base_uri": "https://localhost:8080/"
        },
        "id": "oAmkWrIB1vP-",
        "outputId": "051c2018-f827-4e6a-a479-ce36f1d69f87"
      },
      "execution_count": null,
      "outputs": [
        {
          "output_type": "stream",
          "name": "stdout",
          "text": [
            "Digite a coordenada x do ponto: 0\n",
            "Digite a coordenada y do ponto: 0\n",
            "Coordenadas setadas: [0, 0]\n",
            "Digite a coordenada x do ponto: 5\n",
            "Digite a coordenada y do ponto: 0\n",
            "Coordenadas setadas: [5, 0]\n",
            "Digite a coordenada x do ponto: 5\n",
            "Digite a coordenada y do ponto: 5\n",
            "Coordenadas setadas: [5, 5]\n",
            "Digite a coordenada x do ponto: 0\n",
            "Digite a coordenada y do ponto: 5\n",
            "Coordenadas setadas: [0, 5]\n",
            "Quadrado\n"
          ]
        }
      ]
    },
    {
      "cell_type": "code",
      "source": [
        "import matplotlib.pyplot as plt\n",
        "from matplotlib.patches import Polygon\n",
        "import random\n",
        "\n",
        "tipo = input(\"Digite o tipo de triângulo (equilátero [eq], isósceles[is] ou escaleno[es]): \")\n",
        "while tipo not in [\"eq\", \"is\", \"es\"]:\n",
        "    tipo = input(\"Tipo de triângulo inválido. Digite equilátero [eq], isósceles[is] ou escaleno[es]: \")\n",
        "\n",
        "def checarTriangulo(a,b,c):\n",
        "  # caso os três valores compartilham na mesma index o mesmo valor, retorne falso. Para os geradores não criarem um triângulo sem área.\n",
        "  if a[0] == b[0] == c[0] or a[1] == b[1] == c[1]:\n",
        "    return False\n",
        "  return True\n",
        "\n",
        "def sugiraEquilatero():\n",
        "  d = random.randint(-10,10) # distancia\n",
        "  r = [(0,0),(d,0),(d/2,(d/2)*math.sqrt(3))]\n",
        "  while not checarTriangulo(r[0],r[1],r[2]):\n",
        "    d = random.randint(-10,10) # distancia\n",
        "    r = [(0,0),(d,0),(d/2,(d/2)*math.sqrt(3))]\n",
        "  return r\n",
        "\n",
        "def sugiraIsoceles():\n",
        "  d = random.randint(-10,10) # distancia\n",
        "  v = random.randint(-10,10) # altura\n",
        "  r = [(0,0),(d,0),(d/2,v)]\n",
        "  while not checarTriangulo(r[0],r[1],r[2]):\n",
        "    d = random.randint(-10,10) # distancia\n",
        "    v = random.randint(-10,10) # altura\n",
        "    r = [(0,0),(d,0),(d/2,v)]\n",
        "  return r\n",
        "\n",
        "def sugiraEscaleno():\n",
        "  d = random.randint(10,10) # distancia\n",
        "  off = random.randint(-10,10) # offset\n",
        "  r = [(0,0),(d,0),(d/2+off,d+off)]\n",
        "  while not checarTriangulo(r[0],r[1],r[2]):\n",
        "    d = random.randint(10,10) # distancia\n",
        "    off = random.randint(-10,10) # offset\n",
        "    r = [(0,0),(d,0),(d/2+off,d+off)]\n",
        "  return r\n",
        "\n",
        "if tipo == \"eq\":\n",
        "    vertices = sugiraEquilatero()\n",
        "elif tipo == \"is\":\n",
        "    vertices = sugiraIsoceles()\n",
        "elif tipo == \"es\":\n",
        "    vertices = sugiraEscaleno()\n",
        "else:\n",
        "    print(\"Tipo de triângulo inválido.\")\n",
        "    vertices = []\n",
        "\n",
        "\n",
        "# Criar poligono\n",
        "polygon = Polygon(vertices, closed=True, facecolor='lightblue',\n",
        "edgecolor='blue',)\n",
        "# Criar os axes\n",
        "fig, ax = plt.subplots()\n",
        "ax.add_patch(polygon)\n",
        "\n",
        "\n",
        "# Tamanho do gráfico\n",
        "ax.set_xlim(-10, 10)\n",
        "ax.set_ylim(-10, 10)\n",
        "\n",
        "plt.show()\n",
        "for i in vertices:\n",
        "  print(i)"
      ],
      "metadata": {
        "colab": {
          "base_uri": "https://localhost:8080/",
          "height": 504
        },
        "id": "cSQUNZffC-aj",
        "outputId": "22e07883-9687-4a0c-aa7f-59852ded5213"
      },
      "execution_count": 18,
      "outputs": [
        {
          "name": "stdout",
          "output_type": "stream",
          "text": [
            "Digite o tipo de triângulo (equilátero [eq], isósceles[is] ou escaleno[es]): is\n"
          ]
        },
        {
          "output_type": "display_data",
          "data": {
            "text/plain": [
              "<Figure size 640x480 with 1 Axes>"
            ],
            "image/png": "[encoded data removed]"
          },
          "metadata": {}
        },
        {
          "output_type": "stream",
          "name": "stdout",
          "text": [
            "(0, 0)\n",
            "(-6, 0)\n",
            "(-3.0, 7)\n"
          ]
        }
      ]
    }
  ]
}