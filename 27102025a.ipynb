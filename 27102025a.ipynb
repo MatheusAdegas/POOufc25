{
  "nbformat": 4,
  "nbformat_minor": 0,
  "metadata": {
    "colab": {
      "provenance": [],
      "include_colab_link": true
    },
    "kernelspec": {
      "name": "python3",
      "display_name": "Python 3"
    },
    "language_info": {
      "name": "python"
    }
  },
  "cells": [
    {
      "cell_type": "markdown",
      "metadata": {
        "id": "view-in-github",
        "colab_type": "text"
      },
      "source": [
        "<a href=\"https://colab.research.google.com/github/MatheusAdegas/POOufc25/blob/main/27102025a.ipynb\" target=\"_parent\"><img src=\"https://colab.research.google.com/assets/colab-badge.svg\" alt=\"Open In Colab\"/></a>"
      ]
    },
    {
      "cell_type": "code",
      "execution_count": 1,
      "metadata": {
        "colab": {
          "base_uri": "https://localhost:8080/"
        },
        "id": "aXdLSL4sJDx7",
        "outputId": "865fd9c0-26be-45a6-fb5c-29a056c0a4e1"
      },
      "outputs": [
        {
          "output_type": "stream",
          "name": "stdout",
          "text": [
            "1300\n",
            "2200\n"
          ]
        }
      ],
      "source": [
        "# - Completar a implementação da classe Banco com os métodos\n",
        "# creditar, transferir e saldo;\n",
        "# - Implementar um programa principal que crie objetos das classes\n",
        "# definidas (Conta e Banco), testando sua utilização.\n",
        "# - e fazer a representação do sistema em UML também. :P\n",
        "\n",
        "\n",
        "class Conta:\n",
        "  def __init__(self, numero, titular, saldo):\n",
        "    self.numero = numero\n",
        "    self.titular = titular\n",
        "    self.saldo = saldo\n",
        "\n",
        "  def creditar(self, valor):\n",
        "    self.saldo += valor\n",
        "\n",
        "  def debitar(self, valor):\n",
        "    self.saldo -= valor\n",
        "    if self.saldo < 0:\n",
        "      self.saldo = 0\n",
        "\n",
        "  def transferir(self, conta_destino, valor):\n",
        "    self.debitar(valor)\n",
        "    conta_destino.creditar(valor)\n",
        "\n",
        "class Banco:\n",
        "  def __init__(self):\n",
        "    self.contas = []\n",
        "\n",
        "  def adicionar_conta(self, conta):\n",
        "    self.contas.append(conta)\n",
        "\n",
        "banco = Banco()\n",
        "conta1 = Conta(1, \"João\", 1000)\n",
        "conta2 = Conta(2, \"Maria\", 2000)\n",
        "\n",
        "banco.adicionar_conta(conta1)\n",
        "banco.adicionar_conta(conta2)\n",
        "\n",
        "conta1.creditar(500)\n",
        "conta1.transferir(conta2, 200)\n",
        "\n",
        "print(conta1.saldo)\n",
        "print(conta2.saldo)"
      ]
    },
    {
      "cell_type": "code",
      "source": [],
      "metadata": {
        "id": "ualm7f_QbPWY"
      },
      "execution_count": null,
      "outputs": []
    }
  ]
}